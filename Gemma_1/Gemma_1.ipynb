{
  "nbformat": 4,
  "nbformat_minor": 0,
  "metadata": {
    "colab": {
      "provenance": [],
      "authorship_tag": "ABX9TyP3PDyPMWnu/xbL7cRT8M6r",
      "include_colab_link": true
    },
    "kernelspec": {
      "name": "python3",
      "display_name": "Python 3"
    },
    "language_info": {
      "name": "python"
    }
  },
  "cells": [
    {
      "cell_type": "markdown",
      "metadata": {
        "id": "view-in-github",
        "colab_type": "text"
      },
      "source": [
        "<a href=\"https://colab.research.google.com/github/Jose-Codes/ML-Papers/blob/main/Gemma_1/Gemma_1.ipynb\" target=\"_parent\"><img src=\"https://colab.research.google.com/assets/colab-badge.svg\" alt=\"Open In Colab\"/></a>"
      ]
    },
    {
      "cell_type": "code",
      "execution_count": 1,
      "metadata": {
        "id": "bopFiGoa37Vj"
      },
      "outputs": [],
      "source": [
        "import flax\n",
        "import jax.numpy as jnp"
      ]
    },
    {
      "cell_type": "markdown",
      "source": [
        "Model Paramters:\n",
        "\n",
        "Gemma 1 2B:\n",
        "\n",
        "* d_model = 2048\n",
        "* Layers = 18\n",
        "* Feedforward hidden dims = 32768\n",
        "* Num heads = 8\n",
        "* Num KV heads = 1\n",
        "* Head size = 256\n",
        "* Vocab size = 256128\n",
        "\n",
        "\n",
        "Implementation plan:\n",
        "\n",
        "We need to build the most fundamental pieces first and then put them all together,\n",
        "\n",
        "First create:\n",
        "\n",
        "* RMSNorm\n",
        "* GeGLU activation function\n",
        "* RoPE embeddings\n",
        "* Multi Query Attention\n",
        "\n",
        "Second,\n",
        "\n",
        "* Transformer Decoder block\n",
        "\n",
        "Third and lastly,\n",
        "\n",
        "* String the model together using many Transformer blocks.\n",
        "\n",
        "\n",
        "\n",
        "\n",
        "\n"
      ],
      "metadata": {
        "id": "d6x0pnVP-Cjx"
      }
    },
    {
      "cell_type": "code",
      "source": [
        "class RMSNorm:\n",
        "  # TODO Fill in RMSNorm class\n",
        "  __init__(self):\n",
        "  \"\"\"hello world\"\"\""
      ],
      "metadata": {
        "id": "B8SB02Bd4zkW"
      },
      "execution_count": 1,
      "outputs": []
    },
    {
      "cell_type": "code",
      "source": [
        "class GeGLU:\n",
        "  # TODO fill in class\n",
        "    __init__(self):\n",
        "    \"\"\"hello world\"\"\""
      ],
      "metadata": {
        "id": "h_nMrlXGEyZQ"
      },
      "execution_count": null,
      "outputs": []
    },
    {
      "cell_type": "code",
      "source": [
        "class MQA:\n",
        "  # TODO fill in class\n",
        "    __init__(self):\n",
        "    \"\"\"hello world\"\"\""
      ],
      "metadata": {
        "id": "TRyGC3wQE9Yy"
      },
      "execution_count": null,
      "outputs": []
    },
    {
      "cell_type": "code",
      "source": [
        "class ROPE:\n",
        "  # TODO fill in class\n",
        "    __init__(self):\n",
        "    \"\"\"hello world\"\"\""
      ],
      "metadata": {
        "id": "0Bui3GDYFabK"
      },
      "execution_count": null,
      "outputs": []
    },
    {
      "cell_type": "code",
      "source": [
        "class TransformerDecoderBlock:\n",
        "  # TODO fill in class\n",
        "    __init__(self):\n",
        "    \"\"\"hello world\"\"\""
      ],
      "metadata": {
        "id": "NqknLzkPFcqI"
      },
      "execution_count": null,
      "outputs": []
    },
    {
      "cell_type": "code",
      "source": [
        "class Gemma1Model:\n",
        "  # TODO fill in class\n",
        "    __init__(self):\n",
        "    \"\"\"hello world\"\"\""
      ],
      "metadata": {
        "id": "_qWG4KGUFijg"
      },
      "execution_count": null,
      "outputs": []
    }
  ]
}