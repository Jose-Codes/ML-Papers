{
  "nbformat": 4,
  "nbformat_minor": 0,
  "metadata": {
    "colab": {
      "provenance": [],
      "authorship_tag": "ABX9TyPFyIpDcj2i6VB93CFw6IGe",
      "include_colab_link": true
    },
    "kernelspec": {
      "name": "python3",
      "display_name": "Python 3"
    },
    "language_info": {
      "name": "python"
    }
  },
  "cells": [
    {
      "cell_type": "markdown",
      "metadata": {
        "id": "view-in-github",
        "colab_type": "text"
      },
      "source": [
        "<a href=\"https://colab.research.google.com/github/Jose-Codes/ML-Papers/blob/main/Gemma_1/Gemma_1.ipynb\" target=\"_parent\"><img src=\"https://colab.research.google.com/assets/colab-badge.svg\" alt=\"Open In Colab\"/></a>"
      ]
    },
    {
      "cell_type": "markdown",
      "source": [
        "# Gemma 1"
      ],
      "metadata": {
        "id": "rXraNIb5G826"
      }
    },
    {
      "cell_type": "code",
      "execution_count": 4,
      "metadata": {
        "id": "bopFiGoa37Vj"
      },
      "outputs": [],
      "source": [
        "import jax\n",
        "import jax.numpy as jnp\n",
        "import flax.linen as nn\n",
        "from flax.linen.initializers import variance_scaling\n",
        "import math\n",
        "from typing import Optional, Tuple"
      ]
    },
    {
      "cell_type": "markdown",
      "source": [
        "Model Paramters:\n",
        "\n",
        "Gemma 1 2B:\n",
        "\n",
        "* d_model = 2048\n",
        "* Layers = 18\n",
        "* Feedforward hidden dims = 32768\n",
        "* Num heads = 8\n",
        "* Num KV heads = 1\n",
        "* Head size = 256\n",
        "* Vocab size = 256128\n",
        "\n",
        "\n",
        "Implementation plan:\n",
        "\n",
        "We need to build the most fundamental pieces first and then put them all together,\n",
        "\n",
        "First create:\n",
        "\n",
        "* RMSNorm\n",
        "* GeGLU activation function\n",
        "* RoPE embeddings\n",
        "* Multi Query Attention\n",
        "\n",
        "Second,\n",
        "\n",
        "* Transformer Decoder block\n",
        "\n",
        "Third and lastly,\n",
        "\n",
        "* String the model together using many Transformer blocks.\n",
        "\n",
        "\n",
        "\n",
        "\n",
        "\n"
      ],
      "metadata": {
        "id": "d6x0pnVP-Cjx"
      }
    },
    {
      "cell_type": "markdown",
      "source": [
        "## Gemma Configuration"
      ],
      "metadata": {
        "id": "d7dwe3QnG3Nh"
      }
    },
    {
      "cell_type": "code",
      "source": [
        "class GemmaConfig:\n",
        "  \"\"\"Holds all parameters for the Gemma Model.\"\"\"\n",
        "  def __init__(self, **kwargs):\n",
        "    self.vocab_size = kwargs.get(\"vocab_size\", 256128)\n",
        "    self.d_model = kwargs.get(\"d_model\", 2048)\n",
        "    self.num_layers = kwargs.get(\"num_layers\", 18)\n",
        "    self.num_heads = kwargs.get(\"num_heads\", 8)\n",
        "    self.num_kv_heads = kwargs.get(\"num_kv_heads\", 1)\n",
        "    self.head_dim = kwargs.get(\"head_dim\", self.d_model / self.num_heads)\n",
        "    self.ffn_hidden_dim = kwargs.get('ffn_hidden_dim', 32768)\n",
        "    self.rems_norm_eps = kwargs.get(\"rms_norm_eps\", 1e-6)\n",
        "    # Ensure head_dim is correctly calculated if not provided\n",
        "    assert self.d_model % self.num_heads == 0, \"d_model must be divisible by num_heads\""
      ],
      "metadata": {
        "id": "mMZ5cfJlEaS4"
      },
      "execution_count": 2,
      "outputs": []
    },
    {
      "cell_type": "code",
      "source": [
        "class RMSNorm(nn.module):\n",
        "  \"\"\"\n",
        "  Root Mean Squared Normalization. A simpler and more efficient alternative to LayerNorm.\n",
        "  \"\"\"\n",
        "  dim: int\n",
        "  eps: float = 1e-6\n",
        "\n",
        "  @nn.compact\n",
        "  def __call__(self, x):\n",
        "    # Using float 32 for high precision\n",
        "    x = x.astype(jnp.float32)\n",
        "    # Calculate the reciprocal of the root mean square\n",
        "    rsqrt = jax.lax.rsqrt(jnp.mean(jnp.square(x),\n",
        "                                   axis=-1, keepdims=True) + self.eps)\n",
        "    normalized_x = x * rsqrt\n",
        "\n",
        "    # Learnable scaling parameter, often called 'gamma' or 'weight'\n",
        "    # Gemma multiplies by (1 + weight)\n",
        "\n",
        "    scale = self.param('scale', nn.initializers.zeros, (self.dim,))\n",
        "    return normalized_x * (1 + scale)"
      ],
      "metadata": {
        "id": "B8SB02Bd4zkW"
      },
      "execution_count": 3,
      "outputs": []
    },
    {
      "cell_type": "code",
      "source": [
        "class GeGLU:\n",
        "  # TODO fill in class\n",
        "  def __init__(self):\n",
        "    \"\"\"hello world\"\"\""
      ],
      "metadata": {
        "id": "h_nMrlXGEyZQ"
      },
      "execution_count": null,
      "outputs": []
    },
    {
      "cell_type": "code",
      "source": [
        "class MQA:\n",
        "  # TODO fill in class\n",
        "  def __init__(self):\n",
        "    \"\"\"hello world\"\"\""
      ],
      "metadata": {
        "id": "TRyGC3wQE9Yy"
      },
      "execution_count": null,
      "outputs": []
    },
    {
      "cell_type": "code",
      "source": [
        "class ROPE:\n",
        "  # TODO fill in class\n",
        "  def __init__(self):\n",
        "    \"\"\"hello world\"\"\""
      ],
      "metadata": {
        "id": "0Bui3GDYFabK"
      },
      "execution_count": null,
      "outputs": []
    },
    {
      "cell_type": "code",
      "source": [
        "class TransformerDecoderBlock:\n",
        "  # TODO fill in class\n",
        "  def __init__(self):\n",
        "    \"\"\"hello world\"\"\""
      ],
      "metadata": {
        "id": "NqknLzkPFcqI"
      },
      "execution_count": null,
      "outputs": []
    },
    {
      "cell_type": "code",
      "source": [
        "class Gemma1Model:\n",
        "  # TODO fill in class\n",
        "  def __init__(self):\n",
        "    \"\"\"hello world\"\"\""
      ],
      "metadata": {
        "id": "_qWG4KGUFijg"
      },
      "execution_count": null,
      "outputs": []
    }
  ]
}